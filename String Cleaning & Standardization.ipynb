{
 "cells": [
  {
   "cell_type": "code",
   "execution_count": 14,
   "id": "601482a4",
   "metadata": {},
   "outputs": [],
   "source": [
    "import pandas as pd"
   ]
  },
  {
   "cell_type": "code",
   "execution_count": 15,
   "id": "7b0e7f8e",
   "metadata": {},
   "outputs": [
    {
     "name": "stdout",
     "output_type": "stream",
     "text": [
      "initial shape of dataset is (2590932, 14)\n"
     ]
    }
   ],
   "source": [
    "df = pd.read_csv('IMDB_Movies.csv', low_memory=False)\n",
    "print(\"initial shape of dataset is\", df.shape)"
   ]
  },
  {
   "cell_type": "code",
   "execution_count": 16,
   "id": "7305a3e8",
   "metadata": {},
   "outputs": [],
   "source": [
    "df_copy = df.copy()"
   ]
  },
  {
   "cell_type": "code",
   "execution_count": null,
   "id": "216b9f7e",
   "metadata": {},
   "outputs": [
    {
     "name": "stdout",
     "output_type": "stream",
     "text": [
      "Column 'id' has been cleaned.\n",
      "Column 'name' has been cleaned.\n",
      "Column 'year' has been cleaned.\n",
      "Column 'rating' is not a string type. Skipping.\n",
      "Column 'certificate' has been cleaned.\n",
      "Column 'duration' has been cleaned.\n",
      "Column 'genre' has been cleaned.\n",
      "Column 'votes' has been cleaned.\n",
      "Column 'gross_income' has been cleaned.\n",
      "Column 'directors_id' has been cleaned.\n",
      "Column 'directors_name' has been cleaned.\n",
      "Column 'stars_id' has been cleaned.\n",
      "Column 'stars_name' has been cleaned.\n",
      "Column 'description' has been cleaned.\n",
      "\n",
      "First 5 rows of the cleaned DataFrame with relevant columns:\n",
      "          id                          name               year  rating  \\\n",
      "0  tt4710316  best in sex: 2015 avn awards  (2015 tv special)     4.0   \n",
      "1  tt1281857              naughty novelist       (2008 video)     3.8   \n",
      "2  tt2294954          2011 avn awards show  (2011 tv special)     5.7   \n",
      "3  tt6843596  best in sex: 2017 avn awards  (2017 tv special)     4.9   \n",
      "4  tt3705604               avn awards 2014  (2014 tv special)     6.7   \n",
      "\n",
      "     certificate duration        genre  votes gross_income  \\\n",
      "0          tv-ma   94 min  adult, news  124.0            0   \n",
      "1  not certified   88 min        adult  174.0            0   \n",
      "2  not certified   83 min  adult, news   39.0            0   \n",
      "3          tv-ma   87 min  adult, news  225.0            0   \n",
      "4              r   82 min  adult, news  101.0            0   \n",
      "\n",
      "          directors_id               directors_name  \\\n",
      "0            nm1624094                  gary miller   \n",
      "1            nm0045256                 john bacchus   \n",
      "2  nm1624094,nm0754845  gary miller,timothy e. sabo   \n",
      "3            nm1624094                  gary miller   \n",
      "4            nm1624094                  gary miller   \n",
      "\n",
      "                                  stars_id  \\\n",
      "0  nm4766272,nm2670531,nm4920605,nm6284246   \n",
      "1  nm0128986,nm1969196,nm0451160,nm6130462   \n",
      "2  nm2200343,nm2670531,nm1267549,nm3585599   \n",
      "3  nm5221471,nm2670531,nm4920605,nm3038816   \n",
      "4  nm2670531,nm4920605,nm6284246,nm3992720   \n",
      "\n",
      "                                          stars_name  \\\n",
      "0  farrah laurel abraham,asa akira,anikka albrite...   \n",
      "1       darian caine,jackie stevens,a.j. khan,arrora   \n",
      "2  aubrey addams,asa akira,monique alexander,rave...   \n",
      "3  amirah adara,asa akira,anikka albrite,britney ...   \n",
      "4  asa akira,anikka albrite,august ames,jessie an...   \n",
      "\n",
      "                                         description  \n",
      "0  the hottest adult stars and top adult movies a...  \n",
      "1  darian is a successful journalist but when she...  \n",
      "2                                         add a plot  \n",
      "3  considered the industry's highest honor, the a...  \n",
      "4  erotic filmmaking superstars chanel preston an...  \n"
     ]
    }
   ],
   "source": [
    "for col in df_copy.columns: # Apply Cleaning and Standardization to all string columns \n",
    "   \n",
    "    if df_copy[col].dtype == 'object':   # Check if the column's data type is 'object' (which represents strings)\n",
    "        \n",
    "        df_copy[col] = df_copy[col].str.strip()  # Remove extra spaces\n",
    "        \n",
    "        df_copy[col] = df_copy[col].str.lower()  # Standardize to lowercase\n",
    "       \n",
    "        df_copy[col] = df_copy[col].str.replace('$', '', regex=False)   # Replace  or removes $ symbol\n",
    "        \n",
    "        print(f\"Column '{col}' has been cleaned.\")\n",
    "    else:\n",
    "        print(f\"Column '{col}' is not a string type. Skipping.\")\n",
    "\n",
    "# Print the first few rows of the cleaned DataFrame to verify changes\n",
    "print(\"\\nFirst 5 rows of the cleaned DataFrame with relevant columns:\")\n",
    "print(df_copy.head())"
   ]
  }
 ],
 "metadata": {
  "kernelspec": {
   "display_name": "base",
   "language": "python",
   "name": "python3"
  },
  "language_info": {
   "codemirror_mode": {
    "name": "ipython",
    "version": 3
   },
   "file_extension": ".py",
   "mimetype": "text/x-python",
   "name": "python",
   "nbconvert_exporter": "python",
   "pygments_lexer": "ipython3",
   "version": "3.11.7"
  }
 },
 "nbformat": 4,
 "nbformat_minor": 5
}
