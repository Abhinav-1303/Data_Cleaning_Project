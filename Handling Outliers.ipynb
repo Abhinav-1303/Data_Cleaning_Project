{
 "cells": [
  {
   "cell_type": "code",
   "execution_count": 88,
   "id": "bd138614",
   "metadata": {},
   "outputs": [],
   "source": [
    "import pandas as pd"
   ]
  },
  {
   "cell_type": "code",
   "execution_count": null,
   "id": "b4f98b1b",
   "metadata": {},
   "outputs": [
    {
     "name": "stdout",
     "output_type": "stream",
     "text": [
      "Initial dataset shape: (1460, 81)\n"
     ]
    }
   ],
   "source": [
    "df = pd.read_csv(r\"D:\\Arcap\\Data_Cleaning_Tasks\\house_prices.csv\")\n",
    "print(\"Initial dataset shape:\", df.shape)"
   ]
  },
  {
   "cell_type": "code",
   "execution_count": null,
   "id": "a181fcac",
   "metadata": {},
   "outputs": [],
   "source": [
    "columns_to_check = ['SalePrice', 'LotArea'] # List of columns to check for outliers\n",
    "df_copy = df.copy() # created copy of the original DataFrame to apply filtering"
   ]
  },
  {
   "cell_type": "code",
   "execution_count": null,
   "id": "eefc7286",
   "metadata": {},
   "outputs": [
    {
     "name": "stdout",
     "output_type": "stream",
     "text": [
      "--- Processing 'SalePrice' ---\n",
      "Outliers detected and removed: 41\n",
      "Rows remaining: 1285\n",
      "\n",
      "--- Processing 'LotArea' ---\n",
      "Outliers detected and removed: 28\n",
      "Rows remaining: 1257\n",
      "\n"
     ]
    }
   ],
   "source": [
    "# Loop through each column to detect and remove outliers\n",
    "for col in columns_to_check:\n",
    "    # Calculate the first quartile (Q1) and third quartile (Q3)\n",
    "    Q1 = df_copy[col].quantile(0.25)\n",
    "    Q3 = df_copy[col].quantile(0.75)\n",
    "    \n",
    "    # Calculate the Interquartile Range (IQR)\n",
    "    IQR = Q3 - Q1\n",
    "    \n",
    "    # Define the lower and upper bounds for outlier detection\n",
    "    lower_bound = Q1 - 1.5 * IQR\n",
    "    upper_bound = Q3 + 1.5 * IQR\n",
    "    \n",
    "    # Before filtering, count the number of rows\n",
    "    rows_before_filter = len(df_copy)\n",
    "\n",
    "    # Filter the DataFrame to remove outliers from the current column\n",
    "    df_copy = df_copy[(df_copy[col] >= lower_bound) & (df_copy[col] <= upper_bound)]\n",
    "\n",
    "     # Calculate how many rows were removed\n",
    "    rows_removed = rows_before_filter - len(df_copy)\n",
    "\n",
    "     #Print the results for the current column\n",
    "    print(f\"--- Processing '{col}' ---\")\n",
    "    print(f\"Outliers detected and removed: {rows_removed}\")\n",
    "    print(f\"Rows remaining: {len(df_copy)}\\n\")"
   ]
  },
  {
   "cell_type": "code",
   "execution_count": null,
   "id": "03be44f0",
   "metadata": {},
   "outputs": [],
   "source": [
    "   "
   ]
  }
 ],
 "metadata": {
  "kernelspec": {
   "display_name": "base",
   "language": "python",
   "name": "python3"
  },
  "language_info": {
   "codemirror_mode": {
    "name": "ipython",
    "version": 3
   },
   "file_extension": ".py",
   "mimetype": "text/x-python",
   "name": "python",
   "nbconvert_exporter": "python",
   "pygments_lexer": "ipython3",
   "version": "3.11.7"
  }
 },
 "nbformat": 4,
 "nbformat_minor": 5
}
