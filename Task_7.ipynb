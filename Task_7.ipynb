{
 "cells": [
  {
   "cell_type": "code",
   "execution_count": 1,
   "id": "5543766e",
   "metadata": {},
   "outputs": [],
   "source": [
    "import pandas as pd\n",
    "from sklearn.preprocessing import LabelEncoder"
   ]
  },
  {
   "cell_type": "code",
   "execution_count": 3,
   "id": "40388b29",
   "metadata": {},
   "outputs": [
    {
     "name": "stdout",
     "output_type": "stream",
     "text": [
      "Shape (1000, 8)\n"
     ]
    }
   ],
   "source": [
    "df = pd.read_csv(r\"D:\\Arcap\\Data_Cleaning_Tasks\\StudentsPerformance.csv\")\n",
    "print(\"Shape\", df.shape)"
   ]
  },
  {
   "cell_type": "code",
   "execution_count": 4,
   "id": "653d328e",
   "metadata": {},
   "outputs": [],
   "source": [
    "df_copy = df.copy()"
   ]
  },
  {
   "cell_type": "code",
   "execution_count": 5,
   "id": "3ac03725",
   "metadata": {},
   "outputs": [],
   "source": [
    "# Columns to encode\n",
    "cols_to_encode = ['gender', 'lunch', 'test preparation course']"
   ]
  },
  {
   "cell_type": "code",
   "execution_count": 6,
   "id": "31d5a527",
   "metadata": {},
   "outputs": [],
   "source": [
    "# Initialize LabelEncoder\n",
    "le = LabelEncoder()"
   ]
  },
  {
   "cell_type": "code",
   "execution_count": 7,
   "id": "b8b65b86",
   "metadata": {},
   "outputs": [],
   "source": [
    "# Apply encoding\n",
    "for col in cols_to_encode:\n",
    "    df_copy[col] = le.fit_transform(df_copy[col])"
   ]
  },
  {
   "cell_type": "code",
   "execution_count": null,
   "id": "50a46e72",
   "metadata": {},
   "outputs": [
    {
     "name": "stdout",
     "output_type": "stream",
     "text": [
      "   gender race/ethnicity parental level of education  lunch  \\\n",
      "0       0        group B           bachelor's degree      1   \n",
      "1       0        group C                some college      1   \n",
      "2       0        group B             master's degree      1   \n",
      "3       1        group A          associate's degree      0   \n",
      "4       1        group C                some college      1   \n",
      "\n",
      "   test preparation course  math score  reading score  writing score  \n",
      "0                        1          72             72             74  \n",
      "1                        0          69             90             88  \n",
      "2                        1          90             95             93  \n",
      "3                        1          47             57             44  \n",
      "4                        1          76             78             75  \n",
      "gender                     int32\n",
      "lunch                      int32\n",
      "test preparation course    int32\n",
      "dtype: object\n"
     ]
    }
   ],
   "source": [
    "print(df_copy.head())\n",
    "print(df_copy[cols_to_encode].dtypes)   #Check the data types of the encoded columns (int)."
   ]
  }
 ],
 "metadata": {
  "kernelspec": {
   "display_name": "base",
   "language": "python",
   "name": "python3"
  },
  "language_info": {
   "codemirror_mode": {
    "name": "ipython",
    "version": 3
   },
   "file_extension": ".py",
   "mimetype": "text/x-python",
   "name": "python",
   "nbconvert_exporter": "python",
   "pygments_lexer": "ipython3",
   "version": "3.11.7"
  }
 },
 "nbformat": 4,
 "nbformat_minor": 5
}
