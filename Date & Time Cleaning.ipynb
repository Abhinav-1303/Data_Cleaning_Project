{
 "cells": [
  {
   "cell_type": "code",
   "execution_count": 12,
   "id": "b37768c5",
   "metadata": {},
   "outputs": [],
   "source": [
    "import pandas as pd"
   ]
  },
  {
   "cell_type": "code",
   "execution_count": 21,
   "id": "42e4542e",
   "metadata": {},
   "outputs": [
    {
     "name": "stdout",
     "output_type": "stream",
     "text": [
      "shape (9471, 17)\n"
     ]
    }
   ],
   "source": [
    "df = pd.read_csv(r\"D:\\Arcap\\Data_Cleaning_Tasks\\AirQuality.csv\", sep=';')\n",
    "print(\"shape\", df.shape)"
   ]
  },
  {
   "cell_type": "code",
   "execution_count": 24,
   "id": "27d61b42",
   "metadata": {},
   "outputs": [],
   "source": [
    "df_copy = df.copy()\n",
    "# Combine Date and Time into a single Datetime column\n",
    "df_copy['Datetime'] = pd.to_datetime(df_copy['Date'] + ' ' + df_copy['Time'], format='%d/%m/%Y %H.%M.%S', errors='coerce')"
   ]
  },
  {
   "cell_type": "code",
   "execution_count": null,
   "id": "eaa00017",
   "metadata": {},
   "outputs": [],
   "source": [
    "# Extract useful features\n",
    "df_copy['Year'] = df_copy['Datetime'].dt.year   # extracts year from datetime\n",
    "df_copy['Month'] = df_copy['Datetime'].dt.month # extracts the month number (1–12)\n",
    "df_copy['Weekday'] = df_copy['Datetime'].dt.dayofweek       # Monday=0, Sunday=6\n",
    "df_copy['Weekday_name'] = df_copy['Datetime'].dt.day_name() # e.g., Monday"
   ]
  },
  {
   "cell_type": "code",
   "execution_count": 26,
   "id": "ab50494f",
   "metadata": {},
   "outputs": [
    {
     "name": "stdout",
     "output_type": "stream",
     "text": [
      "             Datetime    Year  Month  Weekday Weekday_name\n",
      "0 2004-03-10 18:00:00  2004.0    3.0      2.0    Wednesday\n",
      "1 2004-03-10 19:00:00  2004.0    3.0      2.0    Wednesday\n",
      "2 2004-03-10 20:00:00  2004.0    3.0      2.0    Wednesday\n",
      "3 2004-03-10 21:00:00  2004.0    3.0      2.0    Wednesday\n",
      "4 2004-03-10 22:00:00  2004.0    3.0      2.0    Wednesday\n"
     ]
    }
   ],
   "source": [
    "# Check result\n",
    "print(df_copy[['Datetime', 'Year', 'Month', 'Weekday', 'Weekday_name']].head())\n"
   ]
  }
 ],
 "metadata": {
  "kernelspec": {
   "display_name": "base",
   "language": "python",
   "name": "python3"
  },
  "language_info": {
   "codemirror_mode": {
    "name": "ipython",
    "version": 3
   },
   "file_extension": ".py",
   "mimetype": "text/x-python",
   "name": "python",
   "nbconvert_exporter": "python",
   "pygments_lexer": "ipython3",
   "version": "3.11.7"
  }
 },
 "nbformat": 4,
 "nbformat_minor": 5
}
